{
 "cells": [
  {
   "cell_type": "code",
   "execution_count": 1,
   "metadata": {},
   "outputs": [],
   "source": [
    "# -*- coding: utf-8 -*-\n",
    "\"\"\"\n",
    "import_qualtrics_surveys- Uses Qualtrics API to automate the import and activation of the meaning map patch rating surveys.\n",
    "\n",
    "@author: Taylor R. Hayes\n",
    "\"\"\"\n",
    "\n",
    "#%% 010: Import modules and define relative folder path\n",
    "\n",
    "# Set your project ID and your API token here\n",
    "# MSB : mUYDofbqRqWRh57qOcHr1vBjwTBWpKwT6PATbaHI   \n",
    "apiToken = \"mUYDofbqRqWRh57qOcHr1vBjwTBWpKwT6PATbaHI\" # This can be found in your Qualtrics account settings->Qualtrics IDs\n",
    "\n",
    "import os\n",
    "import re\n",
    "import requests\n",
    "import json\n",
    "from datetime import datetime  \n",
    "from datetime import timedelta \n",
    "from natsort import natsorted, ns\n",
    "from time import sleep\n",
    "\n",
    "relpath = os.path.dirname(os.path.realpath('__file__'))"
   ]
  },
  {
   "cell_type": "code",
   "execution_count": 2,
   "metadata": {},
   "outputs": [],
   "source": [
    "#%% 020: Define various API functions\n",
    "\n",
    "###################\n",
    "# Import Survey API \n",
    "###################\n",
    "def import_survey(survey,survey_file,name,apiToken):    \n",
    "    \n",
    "    # Setting user Parameters\n",
    "    dataCenter = \"co1\"\t# UC Davis ID\n",
    "    \n",
    "    # Defining inputs\n",
    "    baseUrl = \"https://ucdavis.co1.qualtrics.com/API/v3/surveys\".format(dataCenter)\n",
    "    headers = {\n",
    "        \"x-api-token\": apiToken,\n",
    "        }\n",
    "    \n",
    "    files = {\n",
    "        'file': (survey, open(survey_file, 'rb'), 'application/vnd.qualtrics.survey.txt')\n",
    "        }\n",
    "    \n",
    "    data = { \"name\": name }\n",
    "    \n",
    "    # Make response and print output\n",
    "    response = requests.post(baseUrl, files=files, data=data, headers=headers)\n",
    "    print(response.text)\n",
    "    return response\n",
    "\n",
    "\n",
    "###############\n",
    "# Update Survey\n",
    "###############\n",
    "\n",
    "def update_survey(surveyId,name,apiToken):\n",
    "    \n",
    "    # Setting user Parameters\n",
    "    dataCenter = \"co1\"\t\n",
    "    \n",
    "    baseUrl = \"https://{0}.qualtrics.com/API/v3/surveys/{1}\".format(dataCenter, surveyId)\n",
    "    headers = {\n",
    "        \"content-type\": \"application/json\",\n",
    "        \"x-api-token\": apiToken,\n",
    "        }\n",
    "    \n",
    "    data = { \n",
    "        \"name\": name, \n",
    "        \"isActive\": True, \n",
    "        \"expiration\": { \n",
    "            \"startDate\": datetime.now().strftime(\"%Y-%m-%dT%H:%M:%SZ\"), \n",
    "            \"endDate\": (datetime.now()+timedelta(days=90)).strftime(\"%Y-%m-%dT%H:%M:%SZ\")\n",
    "        } \n",
    "      }\n",
    "    \n",
    "    response = requests.put(baseUrl, json=data, headers=headers)\n",
    "    print(response.text)\n",
    "\n",
    "\n",
    "################\n",
    "# Get Survey API\n",
    "################\n",
    "\n",
    "def get_survey(surveyId,apiToken):\n",
    "\n",
    "    # Setting user Parameters\n",
    "    dataCenter = \"co1\"\t\n",
    "    \n",
    "    baseUrl = \"https://{0}.qualtrics.com/API/v3/surveys/{1}\".format(dataCenter, surveyId)\n",
    "    headers = {\n",
    "        \"x-api-token\": apiToken,\n",
    "        }\n",
    "    \n",
    "    response = requests.get(baseUrl, headers=headers)\n",
    "    #print(response.text)\n",
    "    return response\n",
    "\n",
    "###################\n",
    "# Delete Survey API\n",
    "###################\n",
    "\n",
    "def delete_survey(surveyId,apiToken):\n",
    "    \n",
    "    # Setting user Parameters\n",
    "    dataCenter = \"co1\"\t\n",
    "    \n",
    "    baseUrl = \"https://{0}.qualtrics.com/API/v3/surveys/{1}\".format(dataCenter, surveyId)\n",
    "    headers = {\n",
    "        \"x-api-token\": apiToken,\n",
    "        }\n",
    "    \n",
    "    response = requests.delete(baseUrl, headers=headers)\n",
    "    print(response.text)"
   ]
  },
  {
   "cell_type": "code",
   "execution_count": 3,
   "metadata": {},
   "outputs": [
    {
     "data": {
      "text/plain": [
       "True"
      ]
     },
     "execution_count": 3,
     "metadata": {},
     "output_type": "execute_result"
    }
   ],
   "source": [
    "task_path = relpath\n",
    "\n",
    "os.path.isdir(task_path)"
   ]
  },
  {
   "cell_type": "code",
   "execution_count": 9,
   "metadata": {},
   "outputs": [
    {
     "ename": "NameError",
     "evalue": "name 'task' is not defined",
     "output_type": "error",
     "traceback": [
      "\u001b[0;31m---------------------------------------------------------------------------\u001b[0m",
      "\u001b[0;31mNameError\u001b[0m                                 Traceback (most recent call last)",
      "\u001b[0;32m<ipython-input-9-2e736e5a18ad>\u001b[0m in \u001b[0;36m<module>\u001b[0;34m\u001b[0m\n\u001b[0;32m----> 1\u001b[0;31m \u001b[0mos\u001b[0m\u001b[0;34m.\u001b[0m\u001b[0mpath\u001b[0m\u001b[0;34m.\u001b[0m\u001b[0misdir\u001b[0m\u001b[0;34m(\u001b[0m\u001b[0mos\u001b[0m\u001b[0;34m.\u001b[0m\u001b[0mpath\u001b[0m\u001b[0;34m.\u001b[0m\u001b[0mjoin\u001b[0m\u001b[0;34m(\u001b[0m\u001b[0mtask_path\u001b[0m\u001b[0;34m,\u001b[0m\u001b[0mtask\u001b[0m\u001b[0;34m)\u001b[0m\u001b[0;34m)\u001b[0m \u001b[0;32mand\u001b[0m \u001b[0mtask\u001b[0m \u001b[0;32min\u001b[0m \u001b[0;34m[\u001b[0m\u001b[0;34m'meaning'\u001b[0m\u001b[0;34m]\u001b[0m\u001b[0;34m\u001b[0m\u001b[0;34m\u001b[0m\u001b[0m\n\u001b[0m\u001b[1;32m      2\u001b[0m \u001b[0;34m\u001b[0m\u001b[0m\n",
      "\u001b[0;31mNameError\u001b[0m: name 'task' is not defined"
     ]
    }
   ],
   "source": [
    "     "
   ]
  },
  {
   "cell_type": "code",
   "execution_count": 10,
   "metadata": {},
   "outputs": [
    {
     "ename": "NotADirectoryError",
     "evalue": "[Errno 20] Not a directory: '/Users/madisonbarker/Documents/GitHub/msbarker3.github.io/Projects/Linearization/EDesc02_Qualtrics_Survey_Upload.ipynb/survey_ids.txt'",
     "output_type": "error",
     "traceback": [
      "\u001b[0;31m---------------------------------------------------------------------------\u001b[0m",
      "\u001b[0;31mNotADirectoryError\u001b[0m                        Traceback (most recent call last)",
      "\u001b[0;32m<ipython-input-10-0cc78d0e3f8a>\u001b[0m in \u001b[0;36m<module>\u001b[0;34m\u001b[0m\n\u001b[1;32m     68\u001b[0m         \u001b[0;31m# END OF IMPORT_QUALTRICS_SURVEYS\u001b[0m\u001b[0;34m\u001b[0m\u001b[0;34m\u001b[0m\u001b[0;34m\u001b[0m\u001b[0m\n\u001b[1;32m     69\u001b[0m \u001b[0;34m\u001b[0m\u001b[0m\n\u001b[0;32m---> 70\u001b[0;31m \u001b[0;32mwith\u001b[0m \u001b[0mopen\u001b[0m\u001b[0;34m(\u001b[0m\u001b[0mos\u001b[0m\u001b[0;34m.\u001b[0m\u001b[0mpath\u001b[0m\u001b[0;34m.\u001b[0m\u001b[0mjoin\u001b[0m\u001b[0;34m(\u001b[0m\u001b[0mtask_path\u001b[0m\u001b[0;34m,\u001b[0m\u001b[0mtask\u001b[0m\u001b[0;34m,\u001b[0m\u001b[0;34m'survey_ids.txt'\u001b[0m\u001b[0;34m)\u001b[0m\u001b[0;34m,\u001b[0m\u001b[0;34m'w'\u001b[0m\u001b[0;34m)\u001b[0m \u001b[0;32mas\u001b[0m \u001b[0moutfile\u001b[0m\u001b[0;34m:\u001b[0m\u001b[0;34m\u001b[0m\u001b[0;34m\u001b[0m\u001b[0m\n\u001b[0m\u001b[1;32m     71\u001b[0m     \u001b[0;32mfor\u001b[0m \u001b[0mid_str\u001b[0m \u001b[0;32min\u001b[0m \u001b[0mall_ids\u001b[0m\u001b[0;34m:\u001b[0m\u001b[0;34m\u001b[0m\u001b[0;34m\u001b[0m\u001b[0m\n\u001b[1;32m     72\u001b[0m         \u001b[0moutfile\u001b[0m\u001b[0;34m.\u001b[0m\u001b[0mwrite\u001b[0m\u001b[0;34m(\u001b[0m\u001b[0mid_str\u001b[0m\u001b[0;34m+\u001b[0m\u001b[0;34m\"\\n\"\u001b[0m\u001b[0;34m)\u001b[0m\u001b[0;34m\u001b[0m\u001b[0;34m\u001b[0m\u001b[0m\n",
      "\u001b[0;31mNotADirectoryError\u001b[0m: [Errno 20] Not a directory: '/Users/madisonbarker/Documents/GitHub/msbarker3.github.io/Projects/Linearization/EDesc02_Qualtrics_Survey_Upload.ipynb/survey_ids.txt'"
     ]
    }
   ],
   "source": [
    "all_ids = []\n",
    "\n",
    "for task in os.listdir(task_path):\n",
    "    if os.path.isdir(os.path.join(task_path,task)) and task in ['meaning']:\n",
    "        relpath = os.path.join(task_path,task)\n",
    "\n",
    "        project_ID = 'EDesc0203_'+task.split('_')[0] # This will be the name stem for each survey\n",
    "\n",
    "        #%% 030: Import and generate all fine patch jobs in Qualtrics\n",
    "\n",
    "        #-- Get fine survey files\n",
    "        fine_path = os.path.join(relpath,'edesc02fine')\n",
    "        fine_files = os.listdir(fine_path)\n",
    "        fine_files = natsorted(fine_files, alg=ns.IGNORECASE)\n",
    "\n",
    "        #-- For each file\n",
    "        for x in fine_files:\n",
    "\n",
    "            #-- Create survey\n",
    "            survey_file = os.path.join(fine_path, x)\n",
    "            survey_number = re.findall(\"\\d+\", x)\n",
    "            name = project_ID + '_fine' +  survey_number[0].rjust(3,\"0\") # Qualtrics name sort\n",
    "\n",
    "            #-- Call API to import survey\n",
    "            response = import_survey(x, survey_file, name, apiToken)\n",
    "\n",
    "            #-- Extract survey id from response.text\n",
    "            response_list = re.findall('\"([^\"]*)\"', response.text)\n",
    "            surveyId = response_list[2] \n",
    "\n",
    "            all_ids.append(surveyId)\n",
    "            \n",
    "            #-- Activate survey\n",
    "            update_survey(surveyId,name,apiToken)\n",
    "            \n",
    "            sleep(1)\n",
    "\n",
    "\n",
    "        #%% 040: Import and generate all coarse patch jobs in Qualtrics\n",
    "\n",
    "        #-- Get fine survey files\n",
    "        coarse_path = os.path.join(relpath,'edesc02coarse')\n",
    "        coarse_files = os.listdir(coarse_path)\n",
    "        coarse_files = natsorted(coarse_files, alg=ns.IGNORECASE)\n",
    "\n",
    "        #-- For each file\n",
    "        for x in coarse_files:\n",
    "\n",
    "            #-- Create survey\n",
    "            survey_file = os.path.join(coarse_path, x)\n",
    "            survey_number = re.findall(\"\\d+\", x)\n",
    "            name = project_ID + '_coarse' +  survey_number[0].rjust(3,\"0\") # Qualtrics name sort\n",
    "\n",
    "            #-- Call API to import survey\n",
    "            response = import_survey(x, survey_file, name, apiToken)\n",
    "\n",
    "            #-- Extract survey id from response.text\n",
    "            response_list = re.findall('\"([^\"]*)\"', response.text)\n",
    "            surveyId = response_list[2] \n",
    "            \n",
    "            all_ids.append(surveyId)\n",
    "\n",
    "            #-- Activate survey\n",
    "            update_survey(surveyId,name,apiToken)\n",
    "            \n",
    "            sleep(1)\n",
    "\n",
    "        # END OF IMPORT_QUALTRICS_SURVEYS\n",
    "\n",
    "with open(os.path.join(task_path,task,'survey_ids.txt'),'w') as outfile:\n",
    "    for id_str in all_ids:\n",
    "        outfile.write(id_str+\"\\n\")\n",
    "outfile.close()"
   ]
  },
  {
   "cell_type": "code",
   "execution_count": 23,
   "metadata": {},
   "outputs": [],
   "source": [
    "with open(os.path.join(task_path,task,'survey_ids.txt'),'w') as outfile:\n",
    "    for id_str in all_ids:\n",
    "        outfile.write(id_str+\"\\n\")\n",
    "outfile.close()"
   ]
  },
  {
   "cell_type": "code",
   "execution_count": 5,
   "metadata": {},
   "outputs": [],
   "source": [
    "task = 'grasp' # Set to the task surveys to populate\n",
    "\n",
    "existing_surveys = open(os.path.join(task_path,task,'survey_ids.txt'),'r').readlines()\n",
    "existing_surveys = [d.replace('\\n','') for d in existing_surveys]"
   ]
  },
  {
   "cell_type": "code",
   "execution_count": 13,
   "metadata": {},
   "outputs": [],
   "source": [
    "# Retrieve surveys from Qualtrics to get actual QIDs\n",
    "\n",
    "get_survey_path = os.path.join(task_path,task,'from_qualtrics')\n",
    "\n",
    "if not os.path.isdir(get_survey_path):\n",
    "    os.mkdir(get_survey_path)\n",
    "\n",
    "for f in existing_surveys:\n",
    "    tmp = get_survey(f,apiToken)\n",
    "    text = tmp.text\n",
    "    name = text.split('\"name\":\"')[1].split('\"')[0]+'.txt'\n",
    "    f = open(os.path.join(get_survey_path,name),'w',encoding='UTF-8')\n",
    "    f.write(text)\n",
    "    f.close()       "
   ]
  },
  {
   "cell_type": "code",
   "execution_count": 11,
   "metadata": {},
   "outputs": [
    {
     "data": {
      "text/plain": [
       "'C:\\\\Users\\\\gwenz\\\\Box\\\\FerreiraLabShare\\\\TDrive backup\\\\Gwen\\\\MeaningMap_Verbal\\\\Running\\\\Stimuli\\\\SDesc01\\\\mapping\\\\surveys\\\\grasp\\\\from_qualtrics\\\\SDesc01_grasp_fine001.txt'"
      ]
     },
     "execution_count": 11,
     "metadata": {},
     "output_type": "execute_result"
    }
   ],
   "source": [
    "os.path.join(get_survey_path,name)"
   ]
  },
  {
   "cell_type": "code",
   "execution_count": 9,
   "metadata": {},
   "outputs": [
    {
     "name": "stdout",
     "output_type": "stream",
     "text": [
      "{\"meta\":{\"httpStatus\":\"200 - OK\",\"requestId\":\"29be6894-43b1-4a13-85e1-5959d1306f33\"}}\n",
      "{\"meta\":{\"httpStatus\":\"200 - OK\",\"requestId\":\"f9111bb0-435b-43bb-b31e-06397096035b\"}}\n",
      "{\"meta\":{\"httpStatus\":\"200 - OK\",\"requestId\":\"e7a765d5-ab01-4e12-8df5-e7b0f59718cb\"}}\n",
      "{\"meta\":{\"httpStatus\":\"200 - OK\",\"requestId\":\"d11d9f20-7f56-4969-a7f2-e5e222395646\"}}\n",
      "{\"meta\":{\"httpStatus\":\"200 - OK\",\"requestId\":\"cf13de1f-00bb-4231-b2f6-5c7f11dfef42\"}}\n",
      "{\"meta\":{\"httpStatus\":\"200 - OK\",\"requestId\":\"adbd8f75-5725-428f-aa8e-b67fd54ed6de\"}}\n",
      "{\"meta\":{\"httpStatus\":\"200 - OK\",\"requestId\":\"30dc9cfe-4f67-431b-a75e-fade452e18f0\"}}\n",
      "{\"meta\":{\"httpStatus\":\"200 - OK\",\"requestId\":\"da83cdc5-ce02-4c02-83a1-88ad290c2dc6\"}}\n",
      "{\"meta\":{\"httpStatus\":\"200 - OK\",\"requestId\":\"69570b63-ee85-44f4-a300-2ea5d0fc1cb1\"}}\n",
      "{\"meta\":{\"httpStatus\":\"200 - OK\",\"requestId\":\"1f6eed02-53ac-48ca-ba35-3fd3503593e1\"}}\n",
      "{\"meta\":{\"httpStatus\":\"200 - OK\",\"requestId\":\"d0803ac0-8214-4f99-b827-ca1c120632bf\"}}\n",
      "{\"meta\":{\"httpStatus\":\"200 - OK\",\"requestId\":\"5027b9b6-6ff9-466e-a109-4839208f5971\"}}\n",
      "{\"meta\":{\"httpStatus\":\"200 - OK\",\"requestId\":\"37209b1b-f119-4135-8d7f-81a1f7753a51\"}}\n",
      "{\"meta\":{\"httpStatus\":\"200 - OK\",\"requestId\":\"7bf95541-1ffd-49fe-b335-0c8e1428f0a3\"}}\n",
      "{\"meta\":{\"httpStatus\":\"200 - OK\",\"requestId\":\"a7fa3cfe-8b00-4baa-b43e-09aa464f52cc\"}}\n",
      "{\"meta\":{\"httpStatus\":\"200 - OK\",\"requestId\":\"eeb36cda-92f3-4da2-9270-7ac7cf372fbf\"}}\n",
      "{\"meta\":{\"httpStatus\":\"200 - OK\",\"requestId\":\"ebd16a7f-613e-4938-be67-e6150180871e\"}}\n",
      "{\"meta\":{\"httpStatus\":\"200 - OK\",\"requestId\":\"212cfa65-c458-43b1-b481-b6be75eec2a9\"}}\n",
      "{\"meta\":{\"httpStatus\":\"200 - OK\",\"requestId\":\"8a9d70db-82bd-4afd-8a83-4b0bcac9352e\"}}\n",
      "{\"meta\":{\"httpStatus\":\"200 - OK\",\"requestId\":\"22425a21-7b80-4ffa-b8eb-e415443a8a87\"}}\n",
      "{\"meta\":{\"httpStatus\":\"200 - OK\",\"requestId\":\"cf4df8e5-6322-439f-ae52-2324070b2887\"}}\n",
      "{\"meta\":{\"httpStatus\":\"200 - OK\",\"requestId\":\"cff75236-5339-4b05-8a02-fb3125a066f4\"}}\n",
      "{\"meta\":{\"httpStatus\":\"200 - OK\",\"requestId\":\"ccf27436-3f2d-4ee9-8743-3c08f2491e28\"}}\n",
      "{\"meta\":{\"httpStatus\":\"200 - OK\",\"requestId\":\"61d73c65-71d5-4d6d-8424-323718a5aad8\"}}\n",
      "{\"meta\":{\"httpStatus\":\"200 - OK\",\"requestId\":\"27644747-04b3-45c1-bfbe-da8c19e093ad\"}}\n",
      "{\"meta\":{\"httpStatus\":\"200 - OK\",\"requestId\":\"cd951c2f-c4b1-4139-b743-3067c4aee9f3\"}}\n",
      "{\"meta\":{\"httpStatus\":\"200 - OK\",\"requestId\":\"a0133e9b-e757-43cd-aa4b-787f6e3cc61b\"}}\n",
      "{\"meta\":{\"httpStatus\":\"200 - OK\",\"requestId\":\"5621d825-6d4c-4ca0-ab13-268a5e40aca7\"}}\n",
      "{\"meta\":{\"httpStatus\":\"200 - OK\",\"requestId\":\"aef04dc7-1c04-4f0a-84db-dde8376c4614\"}}\n",
      "{\"meta\":{\"httpStatus\":\"200 - OK\",\"requestId\":\"c0debc93-4822-4ab1-a0ad-48b70a4b35e5\"}}\n",
      "{\"meta\":{\"httpStatus\":\"200 - OK\",\"requestId\":\"3fda97b4-ef96-4cd0-a3c6-0e5442f8559b\"}}\n",
      "{\"meta\":{\"httpStatus\":\"200 - OK\",\"requestId\":\"bc1b9c8e-fb26-4e83-9918-5558a792fbd2\"}}\n",
      "{\"meta\":{\"httpStatus\":\"200 - OK\",\"requestId\":\"e08c3d68-d286-48b7-924c-e4b700cf55cf\"}}\n",
      "{\"meta\":{\"httpStatus\":\"200 - OK\",\"requestId\":\"1cc7f1e3-e628-4f28-b06c-61b90082cedd\"}}\n",
      "{\"meta\":{\"httpStatus\":\"200 - OK\",\"requestId\":\"1ee711f4-c73a-4346-b8a6-0b3f89dc9384\"}}\n",
      "{\"meta\":{\"httpStatus\":\"200 - OK\",\"requestId\":\"0f257764-a967-4254-a4c4-0f7e6baeca39\"}}\n",
      "{\"meta\":{\"httpStatus\":\"200 - OK\",\"requestId\":\"23de6c34-afef-4cf1-97e6-c793319e28a1\"}}\n",
      "{\"meta\":{\"httpStatus\":\"200 - OK\",\"requestId\":\"30bbe450-78c5-4925-80a5-f35f2d528331\"}}\n",
      "{\"meta\":{\"httpStatus\":\"200 - OK\",\"requestId\":\"60014719-e08a-4a33-99bf-bb7008f4a4a4\"}}\n",
      "{\"meta\":{\"httpStatus\":\"200 - OK\",\"requestId\":\"2a3b2cd1-2784-4ac4-a36d-f84b8e133429\"}}\n",
      "{\"meta\":{\"httpStatus\":\"200 - OK\",\"requestId\":\"f1e22273-511a-42aa-923f-c2f161a15ca7\"}}\n"
     ]
    }
   ],
   "source": [
    "# Delete surveys\n",
    "task = 'interact' # Set to the task surveys to be deleted\n",
    "to_delete = existing_surveys\n",
    "\n",
    "for survey in to_delete:\n",
    "    delete_survey(survey,apiToken)"
   ]
  },
  {
   "cell_type": "code",
   "execution_count": null,
   "metadata": {},
   "outputs": [],
   "source": []
  }
 ],
 "metadata": {
  "kernelspec": {
   "display_name": "Python 3",
   "language": "python",
   "name": "python3"
  },
  "language_info": {
   "codemirror_mode": {
    "name": "ipython",
    "version": 3
   },
   "file_extension": ".py",
   "mimetype": "text/x-python",
   "name": "python",
   "nbconvert_exporter": "python",
   "pygments_lexer": "ipython3",
   "version": "3.8.3"
  }
 },
 "nbformat": 4,
 "nbformat_minor": 4
}
